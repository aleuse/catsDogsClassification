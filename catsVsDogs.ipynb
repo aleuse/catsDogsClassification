{
 "cells": [
  {
   "attachments": {},
   "cell_type": "markdown",
   "metadata": {},
   "source": [
    "# Clasificación de Imágenes entre Perros y Gatos."
   ]
  },
  {
   "attachments": {},
   "cell_type": "markdown",
   "metadata": {},
   "source": [
    "Resolveremos una competencia de clasificación de imágenes entre perros y gatos. Los datos provienen del dataset de [Kaggle.](https://www.kaggle.com/competitions/dogs-vs-cats/data)\n",
    "\n",
    "![](woof_meow.jpg)"
   ]
  },
  {
   "attachments": {},
   "cell_type": "markdown",
   "metadata": {},
   "source": [
    "## Bibliotecas"
   ]
  },
  {
   "attachments": {},
   "cell_type": "markdown",
   "metadata": {},
   "source": [
    "Primero instalamos las bibliotecas."
   ]
  },
  {
   "cell_type": "code",
   "execution_count": null,
   "metadata": {},
   "outputs": [],
   "source": [
    "%pip install numpy pandas matplotlib tensorflow"
   ]
  },
  {
   "attachments": {},
   "cell_type": "markdown",
   "metadata": {},
   "source": [
    "Importamos las bibliotecas a utilizar."
   ]
  },
  {
   "cell_type": "code",
   "execution_count": null,
   "metadata": {},
   "outputs": [],
   "source": [
    "import matplotlib.pyplot as plt\n",
    "import tensorflow as tf\n",
    "from tensorflow.keras import models, optimizers, regularizers\n",
    "from tensorflow.keras.models import Sequential\n",
    "from tensorflow.keras.preprocessing.image import ImageDataGenerator\n",
    "from tensorflow.keras.callbacks import EarlyStopping, ModelCheckpoint\n",
    "from tensorflow.keras.layers import Conv2D, MaxPooling2D, Dropout, Flatten, Dense, BatchNormalization"
   ]
  },
  {
   "attachments": {},
   "cell_type": "markdown",
   "metadata": {},
   "source": [
    "## Creación del modelo convolucional"
   ]
  },
  {
   "attachments": {},
   "cell_type": "markdown",
   "metadata": {},
   "source": [
    "Procedemos a crear nuestro modelo convolucional que clasificará si una imagen corresponde a un perro o a un gato."
   ]
  },
  {
   "cell_type": "code",
   "execution_count": null,
   "metadata": {},
   "outputs": [
    {
     "name": "stdout",
     "output_type": "stream",
     "text": [
      "Model: \"sequential_4\"\n",
      "_________________________________________________________________\n",
      " Layer (type)                Output Shape              Param #   \n",
      "=================================================================\n",
      " conv2d_7 (Conv2D)           (None, 150, 150, 32)      896       \n",
      "                                                                 \n",
      " batch_normalization_4 (Batc  (None, 150, 150, 32)     128       \n",
      " hNormalization)                                                 \n",
      "                                                                 \n",
      " max_pooling2d_4 (MaxPooling  (None, 75, 75, 32)       0         \n",
      " 2D)                                                             \n",
      "                                                                 \n",
      " conv2d_8 (Conv2D)           (None, 75, 75, 64)        18496     \n",
      "                                                                 \n",
      " batch_normalization_5 (Batc  (None, 75, 75, 64)       256       \n",
      " hNormalization)                                                 \n",
      "                                                                 \n",
      " max_pooling2d_5 (MaxPooling  (None, 37, 37, 64)       0         \n",
      " 2D)                                                             \n",
      "                                                                 \n",
      " dropout_4 (Dropout)         (None, 37, 37, 64)        0         \n",
      "                                                                 \n",
      " conv2d_9 (Conv2D)           (None, 37, 37, 128)       73856     \n",
      "                                                                 \n",
      " batch_normalization_6 (Batc  (None, 37, 37, 128)      512       \n",
      " hNormalization)                                                 \n",
      "                                                                 \n",
      " max_pooling2d_6 (MaxPooling  (None, 18, 18, 128)      0         \n",
      " 2D)                                                             \n",
      "                                                                 \n",
      " dropout_5 (Dropout)         (None, 18, 18, 128)       0         \n",
      "                                                                 \n",
      " conv2d_10 (Conv2D)          (None, 18, 18, 128)       147584    \n",
      "                                                                 \n",
      " batch_normalization_7 (Batc  (None, 18, 18, 128)      512       \n",
      " hNormalization)                                                 \n",
      "                                                                 \n",
      " max_pooling2d_7 (MaxPooling  (None, 9, 9, 128)        0         \n",
      " 2D)                                                             \n",
      "                                                                 \n",
      " dropout_6 (Dropout)         (None, 9, 9, 128)         0         \n",
      "                                                                 \n",
      " flatten_1 (Flatten)         (None, 10368)             0         \n",
      "                                                                 \n",
      " dropout_7 (Dropout)         (None, 10368)             0         \n",
      "                                                                 \n",
      " dense_2 (Dense)             (None, 512)               5308928   \n",
      "                                                                 \n",
      " dense_3 (Dense)             (None, 1)                 513       \n",
      "                                                                 \n",
      "=================================================================\n",
      "Total params: 5,551,681\n",
      "Trainable params: 5,550,977\n",
      "Non-trainable params: 704\n",
      "_________________________________________________________________\n"
     ]
    }
   ],
   "source": [
    "# Creamos un modelo secuencial\n",
    "model = Sequential()\n",
    "\n",
    "\"\"\"\n",
    "Capa de entrada\n",
    "\"\"\"\n",
    "# Agregamos una capa de convolución\n",
    "model.add(Conv2D(\n",
    "        # 32 kernels\n",
    "        filters = 32, \n",
    "        # Kernels de 3x3\n",
    "        kernel_size = (3, 3),\n",
    "        # Agregamos un padding para que las imágenes después del kernel tengan el mismo tamaño que las de entrada\n",
    "        padding = \"same\",\n",
    "        # Función de activación ReLu\n",
    "        activation = \"relu\",\n",
    "        # Utilizamos regularización Ridge con peso de 1e-5\n",
    "        kernel_regularizer = regularizers.l2(1e-5),\n",
    "        # Datos de entrada de 150x150 pixeles con 3 canales\n",
    "        input_shape = (150, 150, 3)\n",
    "    )\n",
    ")\n",
    "# Apilamos una capa de Batch Normalization\n",
    "model.add(BatchNormalization())\n",
    "# Apilamos una capa de MaxPooling para eliminar ruido de tamaño 2x2\n",
    "model.add(MaxPooling2D(pool_size = (2, 2)))\n",
    "\n",
    "\"\"\"\n",
    "Capa de convolución 2\n",
    "\"\"\"\n",
    "# Agregamos una capa de convolución\n",
    "model.add(Conv2D(\n",
    "        # 64 kernels\n",
    "        filters = 64, \n",
    "        # Kernels de 3x3\n",
    "        kernel_size = (3, 3),\n",
    "        # Agregamos un padding para que las imágenes después del kernel tengan el mismo tamaño que las de entrada\n",
    "        padding = \"same\",\n",
    "        # Función de activación ReLu\n",
    "        activation = \"relu\",\n",
    "        # Utilizamos regularización Ridge con peso de 1e-5\n",
    "        kernel_regularizer = regularizers.l2(1e-5),\n",
    "    )\n",
    ")\n",
    "# Apilamos una capa de Batch Normalization\n",
    "model.add(BatchNormalization())\n",
    "# Apilamos una capa de MaxPooling para eliminar ruido de tamaño 2x2\n",
    "model.add(MaxPooling2D(pool_size = (2, 2)))\n",
    "# Agregamos una capa de Dropout para vigilar el Overfitting; la probabilidad de drop será de 0.2\n",
    "model.add(Dropout(0.2))\n",
    "\n",
    "\"\"\"\n",
    "Capa de convolución 3\n",
    "\"\"\"\n",
    "# Agregamos una capa de convolución\n",
    "model.add(Conv2D(\n",
    "        # 128 kernels\n",
    "        filters = 128, \n",
    "        # Kernels de 3x3\n",
    "        kernel_size = (3, 3),\n",
    "        # Agregamos un padding para que las imágenes después del kernel tengan el mismo tamaño que las de entrada\n",
    "        padding = \"same\",\n",
    "        # Función de activación ReLu\n",
    "        activation = \"relu\",\n",
    "        # Utilizamos regularización Ridge con peso de 1e-5\n",
    "        kernel_regularizer = regularizers.l2(1e-5),\n",
    "    )\n",
    ")\n",
    "# Apilamos una capa de Batch Normalization\n",
    "model.add(BatchNormalization())\n",
    "# Apilamos una capa de MaxPooling para eliminar ruido de tamaño 2x2\n",
    "model.add(MaxPooling2D(pool_size = (2, 2)))\n",
    "# Agregamos una capa de Dropout para vigilar el Overfitting; la probabilidad de drop será de 0.3\n",
    "model.add(Dropout(0.3))\n",
    "\n",
    "\"\"\"\n",
    "Capa de convolución 4\n",
    "\"\"\"\n",
    "# Agregamos una capa de convolución\n",
    "model.add(Conv2D(\n",
    "        # 128 kernels\n",
    "        filters = 128, \n",
    "        # Kernels de 3x3\n",
    "        kernel_size = (3, 3),\n",
    "        # Agregamos un padding para que las imágenes después del kernel tengan el mismo tamaño que las de entrada\n",
    "        padding = \"same\",\n",
    "        # Función de activación ReLu\n",
    "        activation = \"relu\",\n",
    "        # Utilizamos regularización Ridge con peso de 1e-5\n",
    "        kernel_regularizer = regularizers.l2(1e-5),\n",
    "    )\n",
    ")\n",
    "# Apilamos una capa de Batch Normalization\n",
    "model.add(BatchNormalization())\n",
    "# Apilamos una capa de MaxPooling para eliminar ruido de tamaño 2x2\n",
    "model.add(MaxPooling2D(pool_size = (2, 2)))\n",
    "# Agregamos una capa de Dropout para vigilar el Overfitting; la probabilidad de drop será de 0.4\n",
    "model.add(Dropout(0.4))\n",
    "\n",
    "\"\"\"\n",
    "Capa de salida\n",
    "\"\"\"\n",
    "# Agregamos una capa Flatten para aplanar los datos y que queden en una sola dimensión\n",
    "model.add(Flatten())\n",
    "# Agregamos una capa de Dropout para vigilar el Overfitting; la probabilidad de drop será de 0.5\n",
    "model.add(Dropout(0.5))\n",
    "# Agregamos una capa Densa con 512 neuronas y activación ReLu\n",
    "model.add(Dense(512, activation = \"relu\"))\n",
    "# Agregamos la capa encargada de la clasificación binaria con activación Sigmoide\n",
    "model.add(Dense(1, activation = \"sigmoid\"))\n",
    "\n",
    "# Resumen del modelo\n",
    "model.summary()"
   ]
  },
  {
   "attachments": {},
   "cell_type": "markdown",
   "metadata": {},
   "source": [
    "## Data Augmentation"
   ]
  },
  {
   "attachments": {},
   "cell_type": "markdown",
   "metadata": {},
   "source": [
    "Utilizaremos la técnica de Data Augmentation para realizar pequeñas modificaciones a las imágenes que tenemos para generar nuevas imágenes que conserven las características de las originales; esto con el fin de tener más imágenes y mucho más ricas."
   ]
  },
  {
   "cell_type": "code",
   "execution_count": null,
   "metadata": {},
   "outputs": [],
   "source": [
    "# Creamos un generador de imágenes para Training\n",
    "trainImgGen = ImageDataGenerator(\n",
    "    # Escalar los valores de las imágenes para que vayan entre 0 y 1\n",
    "    rescale = 1. / 255,\n",
    "    # Rotación de 40°\n",
    "    rotation_range = 40,\n",
    "    # Movimiento horizontal\n",
    "    width_shift_range = 0.2,\n",
    "    # Movimiento vertical\n",
    "    height_shift_range = 0.2,\n",
    "    # Cortar\n",
    "    shear_range = 0.2,\n",
    "    # Zoom\n",
    "    zoom_range = 0.2,\n",
    "    # Rotación horizontal\n",
    "    horizontal_flip = True,\n",
    "    # Rotación vertical\n",
    "    vertical_flip = True,\n",
    "    # Rellenar los espacios vacíos de la imagen al momento de transformarla\n",
    "    fill_mode = \"nearest\",\n",
    ")\n",
    "\n",
    "# Creamos un generador de imágenes para  Test simplemente escalando los valores para que vayan de 0 a 1\n",
    "testDataGen = ImageDataGenerator(rescale = 1. / 255)"
   ]
  },
  {
   "cell_type": "markdown",
   "metadata": {},
   "source": [
    "### Reescalar los datos"
   ]
  },
  {
   "attachments": {},
   "cell_type": "markdown",
   "metadata": {},
   "source": [
    "Con nuestro generador de imágenes procedemos a realizar el reescalado y las modificaciones a las imágenes cargándolas directamente del directorio."
   ]
  },
  {
   "cell_type": "code",
   "execution_count": null,
   "metadata": {},
   "outputs": [
    {
     "name": "stdout",
     "output_type": "stream",
     "text": [
      "Found 2000 images belonging to 2 classes.\n",
      "Found 1000 images belonging to 2 classes.\n",
      "Found 1000 images belonging to 2 classes.\n"
     ]
    }
   ],
   "source": [
    "# Generamos imágenes para training cargándolas de un directorio\n",
    "trainGenerator = trainImgGen.flow_from_directory(\"catsDogs/train\",\n",
    "    # Tamaño de las imágenes\n",
    "    target_size = (150, 150),\n",
    "    # Paquetes de a 64 imágenes\n",
    "    batch_size = 64,\n",
    "    # Clasificación binaria\n",
    "    class_mode = \"binary\"\n",
    ")\n",
    "\n",
    "# Generamos imágenes para validation cargándolas de un directorio y solamente reescalándolas\n",
    "validationGenerator = testDataGen.flow_from_directory(\"catsDogs/validation\",\n",
    "    # Tamaño de las imágenes\n",
    "    target_size = (150, 150),\n",
    "    # Paquetes de a 64 imágenes\n",
    "    batch_size = 64,\n",
    "    # Clasificación binaria\n",
    "    class_mode = \"binary\"\n",
    ")\n",
    "\n",
    "# Generamos imágenes para testing cargándolas de un directorio y solamente reescalándolas\n",
    "testGenerator = testDataGen.flow_from_directory(\"catsDogs/test\",\n",
    "    # Tamaño de las imágenes\n",
    "    target_size = (150, 150),\n",
    "    # Paquetes de a 64 imágenes\n",
    "    batch_size = 64,\n",
    "    # Clasificación binaria\n",
    "    class_mode = \"binary\"\n",
    ")"
   ]
  },
  {
   "attachments": {},
   "cell_type": "markdown",
   "metadata": {},
   "source": [
    "Vemos que encontró 2000 imágenes en 2 clases (perros y gatos) para training; 1000 para validation y otras 1000 para testing."
   ]
  },
  {
   "cell_type": "markdown",
   "metadata": {},
   "source": [
    "### Callbacks"
   ]
  },
  {
   "attachments": {},
   "cell_type": "markdown",
   "metadata": {},
   "source": [
    "También utilizaremos un callback de checkpoint para guardar los pesos del mejor modelo a medida que se realiza el entrenamiento."
   ]
  },
  {
   "cell_type": "code",
   "execution_count": null,
   "metadata": {},
   "outputs": [],
   "source": [
    "checkpoint = ModelCheckpoint(\n",
    "    # Nombre del archivo. La extensión hdf5 es usada para guardar los pesos del modelo\n",
    "    filepath = \"catsVsDogs.hdf5\",\n",
    "    verbose = 1,\n",
    "    # Métrica que queremos monitorear\n",
    "    monitor = \"val_accuracy\",\n",
    "    # Solo guardar los mejores pesos\n",
    "    save_best_only = True\n",
    ")\n",
    "\n",
    "early = EarlyStopping(\n",
    "    # Métrica que monitoreamos para ver si deja de mejorar\n",
    "    monitor = \"val_accuracy\",\n",
    "    # Número de iteraciones que espera para ver si la métrica no mejora\n",
    "    patience = 15\n",
    ")"
   ]
  },
  {
   "cell_type": "markdown",
   "metadata": {},
   "source": [
    "### Compilar el modelo"
   ]
  },
  {
   "attachments": {},
   "cell_type": "markdown",
   "metadata": {},
   "source": [
    "Compilamos nuestro modelo especificando el optimizador, la función de pérdida y la métrica para hacer la evaluación."
   ]
  },
  {
   "cell_type": "code",
   "execution_count": null,
   "metadata": {},
   "outputs": [],
   "source": [
    "model.compile(\n",
    "    # Función de pérdida Binary Cross Entropy\n",
    "    loss = \"binary_crossentropy\",\n",
    "    # Como optimizador utilizamos Adam que combina las bondades de AdaGrad y RMSProp\n",
    "    optimizer = optimizers.Adam(),\n",
    "    # Como métrica utilizamos el Accuracy Score\n",
    "    metrics = \"accuracy\"\n",
    ")"
   ]
  },
  {
   "cell_type": "markdown",
   "metadata": {},
   "source": [
    "### Entrenamiento del modelo"
   ]
  },
  {
   "attachments": {},
   "cell_type": "markdown",
   "metadata": {},
   "source": [
    "Ahora entrenamos el modelo."
   ]
  },
  {
   "cell_type": "code",
   "execution_count": null,
   "metadata": {},
   "outputs": [
    {
     "name": "stdout",
     "output_type": "stream",
     "text": [
      "Epoch 1/60\n",
      "\n",
      "Epoch 1: val_accuracy improved from -inf to 0.51562, saving model to catsVsDogs.hdf5\n",
      "31/31 - 81s - loss: 0.6798 - accuracy: 0.6136 - val_loss: 0.8559 - val_accuracy: 0.5156 - 81s/epoch - 3s/step\n",
      "Epoch 2/60\n",
      "\n",
      "Epoch 2: val_accuracy did not improve from 0.51562\n",
      "31/31 - 73s - loss: 0.6799 - accuracy: 0.6038 - val_loss: 2.2453 - val_accuracy: 0.5021 - 73s/epoch - 2s/step\n",
      "Epoch 3/60\n",
      "\n",
      "Epoch 3: val_accuracy did not improve from 0.51562\n",
      "31/31 - 77s - loss: 0.6732 - accuracy: 0.6136 - val_loss: 2.9985 - val_accuracy: 0.4990 - 77s/epoch - 2s/step\n",
      "Epoch 4/60\n",
      "\n",
      "Epoch 4: val_accuracy did not improve from 0.51562\n",
      "31/31 - 73s - loss: 0.6655 - accuracy: 0.6209 - val_loss: 2.0358 - val_accuracy: 0.4990 - 73s/epoch - 2s/step\n",
      "Epoch 5/60\n",
      "\n",
      "Epoch 5: val_accuracy improved from 0.51562 to 0.53333, saving model to catsVsDogs.hdf5\n",
      "31/31 - 75s - loss: 0.6321 - accuracy: 0.6410 - val_loss: 0.8928 - val_accuracy: 0.5333 - 75s/epoch - 2s/step\n",
      "Epoch 6/60\n",
      "\n",
      "Epoch 6: val_accuracy did not improve from 0.53333\n",
      "31/31 - 73s - loss: 0.6108 - accuracy: 0.6684 - val_loss: 1.9227 - val_accuracy: 0.5281 - 73s/epoch - 2s/step\n",
      "Epoch 7/60\n",
      "\n",
      "Epoch 7: val_accuracy improved from 0.53333 to 0.54688, saving model to catsVsDogs.hdf5\n",
      "31/31 - 65s - loss: 0.6148 - accuracy: 0.6606 - val_loss: 1.4060 - val_accuracy: 0.5469 - 65s/epoch - 2s/step\n",
      "Epoch 8/60\n",
      "\n",
      "Epoch 8: val_accuracy improved from 0.54688 to 0.61458, saving model to catsVsDogs.hdf5\n",
      "31/31 - 68s - loss: 0.6108 - accuracy: 0.6777 - val_loss: 1.1922 - val_accuracy: 0.6146 - 68s/epoch - 2s/step\n",
      "Epoch 9/60\n",
      "\n",
      "Epoch 9: val_accuracy improved from 0.61458 to 0.61563, saving model to catsVsDogs.hdf5\n",
      "31/31 - 66s - loss: 0.6080 - accuracy: 0.6829 - val_loss: 1.0929 - val_accuracy: 0.6156 - 66s/epoch - 2s/step\n",
      "Epoch 10/60\n",
      "\n",
      "Epoch 10: val_accuracy did not improve from 0.61563\n",
      "31/31 - 66s - loss: 0.5971 - accuracy: 0.6818 - val_loss: 1.0348 - val_accuracy: 0.6135 - 66s/epoch - 2s/step\n",
      "Epoch 11/60\n",
      "\n",
      "Epoch 11: val_accuracy improved from 0.61563 to 0.63021, saving model to catsVsDogs.hdf5\n",
      "31/31 - 67s - loss: 0.5835 - accuracy: 0.7025 - val_loss: 0.7257 - val_accuracy: 0.6302 - 67s/epoch - 2s/step\n",
      "Epoch 12/60\n",
      "\n",
      "Epoch 12: val_accuracy improved from 0.63021 to 0.66458, saving model to catsVsDogs.hdf5\n",
      "31/31 - 69s - loss: 0.5739 - accuracy: 0.6994 - val_loss: 0.9196 - val_accuracy: 0.6646 - 69s/epoch - 2s/step\n",
      "Epoch 13/60\n",
      "\n",
      "Epoch 13: val_accuracy improved from 0.66458 to 0.67604, saving model to catsVsDogs.hdf5\n",
      "31/31 - 64s - loss: 0.5683 - accuracy: 0.6999 - val_loss: 1.1673 - val_accuracy: 0.6760 - 64s/epoch - 2s/step\n",
      "Epoch 14/60\n",
      "\n",
      "Epoch 14: val_accuracy did not improve from 0.67604\n",
      "31/31 - 63s - loss: 0.5570 - accuracy: 0.7045 - val_loss: 0.7344 - val_accuracy: 0.6365 - 63s/epoch - 2s/step\n",
      "Epoch 15/60\n",
      "\n",
      "Epoch 15: val_accuracy improved from 0.67604 to 0.70521, saving model to catsVsDogs.hdf5\n",
      "31/31 - 66s - loss: 0.5569 - accuracy: 0.7190 - val_loss: 0.5930 - val_accuracy: 0.7052 - 66s/epoch - 2s/step\n",
      "Epoch 16/60\n",
      "\n",
      "Epoch 16: val_accuracy did not improve from 0.70521\n",
      "31/31 - 65s - loss: 0.5634 - accuracy: 0.7087 - val_loss: 0.5898 - val_accuracy: 0.7010 - 65s/epoch - 2s/step\n",
      "Epoch 17/60\n",
      "\n",
      "Epoch 17: val_accuracy did not improve from 0.70521\n",
      "31/31 - 64s - loss: 0.5550 - accuracy: 0.7040 - val_loss: 2.8765 - val_accuracy: 0.6010 - 64s/epoch - 2s/step\n",
      "Epoch 18/60\n",
      "\n",
      "Epoch 18: val_accuracy did not improve from 0.70521\n",
      "31/31 - 66s - loss: 0.5561 - accuracy: 0.7164 - val_loss: 0.6246 - val_accuracy: 0.6521 - 66s/epoch - 2s/step\n",
      "Epoch 19/60\n",
      "\n",
      "Epoch 19: val_accuracy did not improve from 0.70521\n",
      "31/31 - 68s - loss: 0.5563 - accuracy: 0.7149 - val_loss: 0.6263 - val_accuracy: 0.6583 - 68s/epoch - 2s/step\n",
      "Epoch 20/60\n",
      "\n",
      "Epoch 20: val_accuracy did not improve from 0.70521\n",
      "31/31 - 70s - loss: 0.5428 - accuracy: 0.7314 - val_loss: 0.5691 - val_accuracy: 0.6990 - 70s/epoch - 2s/step\n",
      "Epoch 21/60\n",
      "\n",
      "Epoch 21: val_accuracy improved from 0.70521 to 0.72917, saving model to catsVsDogs.hdf5\n",
      "31/31 - 69s - loss: 0.5218 - accuracy: 0.7454 - val_loss: 0.5861 - val_accuracy: 0.7292 - 69s/epoch - 2s/step\n",
      "Epoch 22/60\n",
      "\n",
      "Epoch 22: val_accuracy did not improve from 0.72917\n",
      "31/31 - 67s - loss: 0.5283 - accuracy: 0.7345 - val_loss: 0.6768 - val_accuracy: 0.6885 - 67s/epoch - 2s/step\n",
      "Epoch 23/60\n",
      "\n",
      "Epoch 23: val_accuracy did not improve from 0.72917\n",
      "31/31 - 82s - loss: 0.5440 - accuracy: 0.7206 - val_loss: 0.8908 - val_accuracy: 0.6042 - 82s/epoch - 3s/step\n",
      "Epoch 24/60\n",
      "\n",
      "Epoch 24: val_accuracy did not improve from 0.72917\n",
      "31/31 - 64s - loss: 0.5331 - accuracy: 0.7309 - val_loss: 0.7269 - val_accuracy: 0.6219 - 64s/epoch - 2s/step\n",
      "Epoch 25/60\n",
      "\n",
      "Epoch 25: val_accuracy did not improve from 0.72917\n",
      "31/31 - 61s - loss: 0.5301 - accuracy: 0.7314 - val_loss: 0.6677 - val_accuracy: 0.6417 - 61s/epoch - 2s/step\n",
      "Epoch 26/60\n",
      "\n",
      "Epoch 26: val_accuracy did not improve from 0.72917\n",
      "31/31 - 61s - loss: 0.5253 - accuracy: 0.7330 - val_loss: 0.6685 - val_accuracy: 0.6219 - 61s/epoch - 2s/step\n",
      "Epoch 27/60\n",
      "\n",
      "Epoch 27: val_accuracy did not improve from 0.72917\n",
      "31/31 - 61s - loss: 0.5283 - accuracy: 0.7392 - val_loss: 0.6953 - val_accuracy: 0.6385 - 61s/epoch - 2s/step\n",
      "Epoch 28/60\n",
      "\n",
      "Epoch 28: val_accuracy did not improve from 0.72917\n",
      "31/31 - 62s - loss: 0.5147 - accuracy: 0.7490 - val_loss: 0.6481 - val_accuracy: 0.6823 - 62s/epoch - 2s/step\n",
      "Epoch 29/60\n",
      "\n",
      "Epoch 29: val_accuracy did not improve from 0.72917\n",
      "31/31 - 63s - loss: 0.4975 - accuracy: 0.7546 - val_loss: 0.7095 - val_accuracy: 0.6677 - 63s/epoch - 2s/step\n",
      "Epoch 30/60\n",
      "\n",
      "Epoch 30: val_accuracy did not improve from 0.72917\n",
      "31/31 - 77s - loss: 0.5124 - accuracy: 0.7531 - val_loss: 0.6200 - val_accuracy: 0.6729 - 77s/epoch - 2s/step\n",
      "Epoch 31/60\n",
      "\n",
      "Epoch 31: val_accuracy improved from 0.72917 to 0.75937, saving model to catsVsDogs.hdf5\n",
      "31/31 - 70s - loss: 0.4962 - accuracy: 0.7619 - val_loss: 0.5299 - val_accuracy: 0.7594 - 70s/epoch - 2s/step\n",
      "Epoch 32/60\n",
      "\n",
      "Epoch 32: val_accuracy did not improve from 0.75937\n",
      "31/31 - 76s - loss: 0.5177 - accuracy: 0.7500 - val_loss: 1.0184 - val_accuracy: 0.5646 - 76s/epoch - 2s/step\n",
      "Epoch 33/60\n",
      "\n",
      "Epoch 33: val_accuracy did not improve from 0.75937\n",
      "31/31 - 70s - loss: 0.4985 - accuracy: 0.7567 - val_loss: 0.6721 - val_accuracy: 0.6771 - 70s/epoch - 2s/step\n",
      "Epoch 34/60\n",
      "\n",
      "Epoch 34: val_accuracy did not improve from 0.75937\n",
      "31/31 - 73s - loss: 0.5100 - accuracy: 0.7454 - val_loss: 0.6680 - val_accuracy: 0.7094 - 73s/epoch - 2s/step\n",
      "Epoch 35/60\n",
      "\n",
      "Epoch 35: val_accuracy did not improve from 0.75937\n",
      "31/31 - 71s - loss: 0.4971 - accuracy: 0.7546 - val_loss: 0.5754 - val_accuracy: 0.7010 - 71s/epoch - 2s/step\n",
      "Epoch 36/60\n",
      "\n",
      "Epoch 36: val_accuracy did not improve from 0.75937\n",
      "31/31 - 69s - loss: 0.4934 - accuracy: 0.7593 - val_loss: 0.6893 - val_accuracy: 0.7042 - 69s/epoch - 2s/step\n",
      "Epoch 37/60\n",
      "\n",
      "Epoch 37: val_accuracy did not improve from 0.75937\n",
      "31/31 - 64s - loss: 0.4912 - accuracy: 0.7696 - val_loss: 0.5611 - val_accuracy: 0.7281 - 64s/epoch - 2s/step\n",
      "Epoch 38/60\n",
      "\n",
      "Epoch 38: val_accuracy did not improve from 0.75937\n",
      "31/31 - 63s - loss: 0.4757 - accuracy: 0.7727 - val_loss: 0.5410 - val_accuracy: 0.7448 - 63s/epoch - 2s/step\n",
      "Epoch 39/60\n",
      "\n",
      "Epoch 39: val_accuracy did not improve from 0.75937\n",
      "31/31 - 63s - loss: 0.4685 - accuracy: 0.7789 - val_loss: 0.7452 - val_accuracy: 0.6917 - 63s/epoch - 2s/step\n",
      "Epoch 40/60\n",
      "\n",
      "Epoch 40: val_accuracy did not improve from 0.75937\n",
      "31/31 - 64s - loss: 0.4979 - accuracy: 0.7536 - val_loss: 0.5752 - val_accuracy: 0.7385 - 64s/epoch - 2s/step\n",
      "Epoch 41/60\n",
      "\n",
      "Epoch 41: val_accuracy did not improve from 0.75937\n",
      "31/31 - 64s - loss: 0.4743 - accuracy: 0.7717 - val_loss: 0.5950 - val_accuracy: 0.7073 - 64s/epoch - 2s/step\n",
      "Epoch 42/60\n",
      "\n",
      "Epoch 42: val_accuracy did not improve from 0.75937\n",
      "31/31 - 64s - loss: 0.4796 - accuracy: 0.7738 - val_loss: 0.5190 - val_accuracy: 0.7594 - 64s/epoch - 2s/step\n",
      "Epoch 43/60\n",
      "\n",
      "Epoch 43: val_accuracy did not improve from 0.75937\n",
      "31/31 - 64s - loss: 0.5053 - accuracy: 0.7608 - val_loss: 0.5725 - val_accuracy: 0.7146 - 64s/epoch - 2s/step\n",
      "Epoch 44/60\n",
      "\n",
      "Epoch 44: val_accuracy did not improve from 0.75937\n",
      "31/31 - 66s - loss: 0.4876 - accuracy: 0.7598 - val_loss: 0.5848 - val_accuracy: 0.7365 - 66s/epoch - 2s/step\n",
      "Epoch 45/60\n",
      "\n",
      "Epoch 45: val_accuracy did not improve from 0.75937\n",
      "31/31 - 64s - loss: 0.4695 - accuracy: 0.7743 - val_loss: 0.5335 - val_accuracy: 0.7500 - 64s/epoch - 2s/step\n",
      "Epoch 46/60\n",
      "\n",
      "Epoch 46: val_accuracy did not improve from 0.75937\n",
      "31/31 - 64s - loss: 0.4743 - accuracy: 0.7805 - val_loss: 0.5377 - val_accuracy: 0.7500 - 64s/epoch - 2s/step\n"
     ]
    }
   ],
   "source": [
    "# Entrenamos el modelo con nuestro Data Generator\n",
    "hist = model.fit(\n",
    "    # Utiliza las imágenes generadas por el Train Generator\n",
    "    trainGenerator,\n",
    "    # Utilizar los callbacks que creamos\n",
    "    callbacks = [checkpoint],\n",
    "    # Pasos por épocas igual a la cantidad de imágenes para training divido el tamaño de los batches\n",
    "    steps_per_epoch = 2000 // 64,\n",
    "    # Entrenamos por 80 épocas\n",
    "    epochs = 80,\n",
    "    # Para validación utilizamos las imágenes generadas por el Validation Generator\n",
    "    validation_data = validationGenerator,\n",
    "    # Pasos para validación igual a la cantidad de imágenes para testing divido el tamaño de los batches\n",
    "    validation_steps = 1000 // 64,\n",
    "    verbose = 2,\n",
    "    # Mezclar los datos\n",
    "    shuffle = True\n",
    ")"
   ]
  },
  {
   "cell_type": "markdown",
   "metadata": {},
   "source": [
    "### Evaluación del modelo"
   ]
  },
  {
   "attachments": {},
   "cell_type": "markdown",
   "metadata": {},
   "source": [
    "Visualizamos el Accuracy del modelo obtenido a lo largo de las iteraciones con los datos de training y validation."
   ]
  },
  {
   "cell_type": "code",
   "execution_count": null,
   "metadata": {},
   "outputs": [
    {
     "data": {
      "image/png": "[encoded data removed]",
      "text/plain": [
       "<Figure size 640x480 with 1 Axes>"
      ]
     },
     "metadata": {},
     "output_type": "display_data"
    }
   ],
   "source": [
    "plt.plot(hist.history[\"accuracy\"], label = \"Train\")\n",
    "plt.plot(hist.history[\"val_accuracy\"], label = \"Validation\")\n",
    "plt.legend()\n",
    "plt.show()"
   ]
  },
  {
   "attachments": {},
   "cell_type": "markdown",
   "metadata": {},
   "source": [
    "Podemos observar que no hay evidencia de overfitting ya que el accuracy para testing y validation se mantuvieron parecidos."
   ]
  },
  {
   "cell_type": "code",
   "execution_count": null,
   "metadata": {},
   "outputs": [
    {
     "name": "stdout",
     "output_type": "stream",
     "text": [
      "16/16 [==============================] - 23s 1s/step - loss: 0.5665 - accuracy: 0.7170\n"
     ]
    },
    {
     "data": {
      "text/plain": [
       "[0.5665481090545654, 0.7170000076293945]"
      ]
     },
     "metadata": {},
     "output_type": "display_data"
    }
   ],
   "source": [
    "model.evaluate(testGenerator)"
   ]
  },
  {
   "attachments": {},
   "cell_type": "markdown",
   "metadata": {},
   "source": [
    "Finalmente, nuestro modelo tiene un accuracy del 71.7%"
   ]
  }
 ],
 "metadata": {
  "kernelspec": {
   "display_name": "convolutionalNeuralNetworks",
   "language": "python",
   "name": "python3"
  },
  "language_info": {
   "name": "python",
   "version": "3.9.16"
  },
  "orig_nbformat": 4
 },
 "nbformat": 4,
 "nbformat_minor": 2
}
